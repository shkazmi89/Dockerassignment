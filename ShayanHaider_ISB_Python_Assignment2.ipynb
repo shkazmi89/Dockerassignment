{
 "cells": [
  {
   "cell_type": "code",
   "execution_count": 19,
   "metadata": {
    "collapsed": false
   },
   "outputs": [],
   "source": [
    "import pandas as pd\n",
    "import numpy as np\n",
    "df = pd.read_csv(\"hospitaldata.csv\", sep=\",\", na_values=\"-\")"
   ]
  },
  {
   "cell_type": "code",
   "execution_count": 20,
   "metadata": {
    "collapsed": false
   },
   "outputs": [
    {
     "name": "stdout",
     "output_type": "stream",
     "text": [
      "Index([u'Date', u'id', u'Time', u'Age', u'Sex', u'Consulting_Doctor',\n",
      "       u'Specialty', u'Procedure', u'Total_Charges', u'Amount_Received_',\n",
      "       u'Amount_Balance', u'Amount_Received_By', u'Amount_in_Hospital',\n",
      "       u'Receptionist_Name', u'Next_Apt'],\n",
      "      dtype='object')\n"
     ]
    }
   ],
   "source": [
    "# Q1.  remove the dots in the names\n",
    "df = df.rename(columns=lambda x: x.replace('.', ' '))\n",
    "df = df.rename(columns=lambda x: x.replace('  ', '_'))\n",
    "df = df.rename(columns=lambda x: x.replace(' ', '_'))\n",
    "print df.columns"
   ]
  },
  {
   "cell_type": "code",
   "execution_count": 21,
   "metadata": {
    "collapsed": false
   },
   "outputs": [
    {
     "name": "stdout",
     "output_type": "stream",
     "text": [
      "51\n",
      "Monday\n"
     ]
    }
   ],
   "source": [
    "# Q2. Which day of the week is expected to have most visits? Ans == Monday \n",
    "\n",
    "new_df = pd.DataFrame(df.Date.str.split(',',1).tolist(), columns = ['Day','Date'])\n",
    "print new_df['Day'].value_counts().max()\n",
    "print new_df['Day'].value_counts().idxmax()"
   ]
  },
  {
   "cell_type": "code",
   "execution_count": 22,
   "metadata": {
    "collapsed": false
   },
   "outputs": [
    {
     "name": "stdout",
     "output_type": "stream",
     "text": [
      "32.734375\n"
     ]
    }
   ],
   "source": [
    "# 3.  What is the average age of patients? Ans== 32.7\n",
    "df['Age'] = pd.to_numeric(df.Age, errors='coerce')\n",
    "print df['Age'].mean()"
   ]
  },
  {
   "cell_type": "code",
   "execution_count": 23,
   "metadata": {
    "collapsed": false
   },
   "outputs": [
    {
     "name": "stdout",
     "output_type": "stream",
     "text": [
      "23\n"
     ]
    }
   ],
   "source": [
    "# 4. How many children were entertained? (Make a Bracket of Age from 1-12) ? Ans == 23\n",
    "print len(list(filter(lambda x: x < 12, df['Age'])))"
   ]
  },
  {
   "cell_type": "code",
   "execution_count": 24,
   "metadata": {
    "collapsed": false
   },
   "outputs": [
    {
     "name": "stdout",
     "output_type": "stream",
     "text": [
      "Sex  Specialty         \n",
      "F    Dentist               57\n",
      "     Gynae                 13\n",
      "     M/o                    7\n",
      "     Orthopedic             5\n",
      "     Psychotherapist        4\n",
      "     Child Specialist       3\n",
      "     Radiologist            3\n",
      "     General Surgeon        2\n",
      "     Dental                 1\n",
      "     ENT                    1\n",
      "     Medical Specialist     1\n",
      "M    Dentist               46\n",
      "     Psychotherapist       10\n",
      "     M/o                    8\n",
      "     Child Specialist       7\n",
      "     Orthopedic             3\n",
      "     Radiologist            3\n",
      "     General Surgeon        2\n",
      "     Medical Specialist     2\n",
      "     Anaesthetist           1\n",
      "     Dermatologist          1\n",
      "NAN  Child Specialist       1\n",
      "Name: Specialty, dtype: int64\n"
     ]
    }
   ],
   "source": [
    "# 5. Which speciality has most patients? Ans == Dentist\n",
    "\n",
    "df['Sex'] = map(lambda x: str(x).replace(\"-\", \"\"), df['Sex'])\n",
    "df['Sex'] = map(lambda x: str(x).upper(), df['Sex'])\n",
    "print df.groupby(['Sex']).Specialty.value_counts()"
   ]
  },
  {
   "cell_type": "code",
   "execution_count": 25,
   "metadata": {
    "collapsed": false
   },
   "outputs": [
    {
     "name": "stdout",
     "output_type": "stream",
     "text": [
      "513050.0\n",
      "Dr Alaf Khan\n"
     ]
    }
   ],
   "source": [
    "# 6. Which Doctor is earning highest? Alaf khan, 513050\n",
    "\n",
    "df['Total_Charges'] = pd.to_numeric(df['Total_Charges'], errors='coerce')\n",
    "print df.groupby(['Consulting_Doctor']).Total_Charges.sum().max()\n",
    "print df.groupby(['Consulting_Doctor']).Total_Charges.sum().idxmax()\n"
   ]
  },
  {
   "cell_type": "code",
   "execution_count": 26,
   "metadata": {
    "collapsed": false
   },
   "outputs": [
    {
     "name": "stdout",
     "output_type": "stream",
     "text": [
      "240000.0\n",
      "Orthodontics\n"
     ]
    }
   ],
   "source": [
    "# 7. Which procedure type earns more money? Ans== Orthodontics , 240000\n",
    "\n",
    "print df.groupby(['Procedure']).Total_Charges.sum().max()\n",
    "print df.groupby(['Procedure']).Total_Charges.sum().idxmax()"
   ]
  },
  {
   "cell_type": "code",
   "execution_count": 27,
   "metadata": {
    "collapsed": false
   },
   "outputs": [
    {
     "name": "stdout",
     "output_type": "stream",
     "text": [
      "The time with highets frequency: \n"
     ]
    },
    {
     "data": {
      "text/html": [
       "<div>\n",
       "<table border=\"1\" class=\"dataframe\">\n",
       "  <thead>\n",
       "    <tr style=\"text-align: right;\">\n",
       "      <th></th>\n",
       "      <th>Visits</th>\n",
       "    </tr>\n",
       "    <tr>\n",
       "      <th>Hour</th>\n",
       "      <th></th>\n",
       "    </tr>\n",
       "  </thead>\n",
       "  <tbody>\n",
       "    <tr>\n",
       "      <th>13.0</th>\n",
       "      <td>29</td>\n",
       "    </tr>\n",
       "  </tbody>\n",
       "</table>\n",
       "</div>"
      ],
      "text/plain": [
       "      Visits\n",
       "Hour        \n",
       "13.0      29"
      ]
     },
     "execution_count": 27,
     "metadata": {},
     "output_type": "execute_result"
    }
   ],
   "source": [
    "# 8. Which time of the day has highest frequency of visits by hour ? Ans == 13 , 29\n",
    "new_time = df[['Time']].copy()\n",
    "new_time.Time[0] = new_time.Time[0]+\"AM\"\n",
    "\n",
    "df.Time = new_time.Time\n",
    "df.Time = df.Time.replace('-',np.nan)\n",
    "df.Time = pd.to_datetime(df.Time,format = '%I:%M%p')\n",
    "# creating hour colur\n",
    "df['Hour'] = df.Time.dt.hour\n",
    "\n",
    "visits = df[['Hour']].copy()\n",
    "visits['Visits']=0\n",
    "visits = visits.groupby(['Hour']).agg({'Visits':\"count\"})\n",
    "visits = visits.sort_values(by=['Visits'],ascending=False)\n",
    "print \"The time with highets frequency: \";\n",
    "visits.head(n=1)"
   ]
  },
  {
   "cell_type": "code",
   "execution_count": 28,
   "metadata": {
    "collapsed": false
   },
   "outputs": [
    {
     "name": "stdout",
     "output_type": "stream",
     "text": [
      "37\n"
     ]
    }
   ],
   "source": [
    "#10. How many patients are repeated visitors? Ans = 37\n",
    "\n",
    "print sum(df['id'].value_counts() > 1)"
   ]
  },
  {
   "cell_type": "code",
   "execution_count": 29,
   "metadata": {
    "collapsed": false
   },
   "outputs": [
    {
     "name": "stdout",
     "output_type": "stream",
     "text": [
      "[1, 4, 12, 13, 17, 20, 25, 40, 45, 46, 59, 63, 64, 80, 88, 94, 96, 97, 100, 101, 107, 109, 112, 114, 116, 118, 120, 122, 130, 132, 133, 140, 145, 149, 150, 151, 153]\n"
     ]
    }
   ],
   "source": [
    "# 11.  Give us the id of repeated visitors. \n",
    "## ANS ==  [1, 4, 12, 13, 17, 20, 25, 40, 45, 46, 59, 63, 64, 80, 88, 94, 96, 97, 100, 101, 107, 109, 112, 114, 116, 118, 120, 122, 130, 132, 133, 140, 145, 149, 150, 151, 153]\n",
    "from collections import Counter\n",
    "freq = Counter(df['id'])\n",
    "# print freq\n",
    "ids = []\n",
    "for key in freq:\n",
    "    if (freq[key]) > 1:\n",
    "        ids.append(key)\n",
    "print ids"
   ]
  },
  {
   "cell_type": "code",
   "execution_count": 30,
   "metadata": {
    "collapsed": false
   },
   "outputs": [
    {
     "name": "stdout",
     "output_type": "stream",
     "text": [
      "id   Specialty      \n",
      "12   Dentist            2\n",
      "13   Orthopedic         2\n",
      "17   Dentist            2\n",
      "25   Gynae              2\n",
      "40   Dentist            2\n",
      "45   Dentist            3\n",
      "63   Dentist            2\n",
      "88   Dentist            2\n",
      "96   Dentist            2\n",
      "97   Psychotherapist    2\n",
      "100  Dentist            2\n",
      "101  Gynae              3\n",
      "107  Dentist            2\n",
      "109  Dentist            3\n",
      "112  Orthopedic         2\n",
      "114  Gynae              3\n",
      "116  Dentist            2\n",
      "120  M/o                2\n",
      "130  Psychotherapist    2\n",
      "132  Dentist            3\n",
      "140  Dentist            4\n",
      "145  Dentist            3\n",
      "149  Dentist            2\n",
      "151  Dentist            2\n",
      "153  Dentist            2\n",
      "Name: Specialty, dtype: int64\n"
     ]
    }
   ],
   "source": [
    "# 12. Which patients visited again for the same problem?\n",
    "\n",
    "dd = df.groupby(['id']).Specialty.value_counts()[df.groupby(['id']).Specialty.value_counts() > 1]\n",
    "print dd"
   ]
  },
  {
   "cell_type": "code",
   "execution_count": 31,
   "metadata": {
    "collapsed": false
   },
   "outputs": [
    {
     "name": "stdout",
     "output_type": "stream",
     "text": [
      "Sex\n",
      "F      30.0\n",
      "M      29.0\n",
      "NAN     NaN\n",
      "Name: Age, dtype: float64\n"
     ]
    }
   ],
   "source": [
    "# 13. What is the median age for Females and Males? Ans == M=29 , F = 30\n",
    "print df.groupby(['Sex']).Age.median()"
   ]
  },
  {
   "cell_type": "code",
   "execution_count": 32,
   "metadata": {
    "collapsed": false
   },
   "outputs": [
    {
     "name": "stdout",
     "output_type": "stream",
     "text": [
      "222500.0\n"
     ]
    }
   ],
   "source": [
    "# 14. What is the total amount in balance? Ans == 222500\n",
    "df['Amount_Balance'] = map(lambda x: str(x).replace(\",\", \"\"), df['Amount_Balance'])\n",
    "df['Amount_Balance'] = pd.to_numeric(df['Amount_Balance'], errors='coerce')\n",
    "print df.Amount_Balance.sum()"
   ]
  },
  {
   "cell_type": "code",
   "execution_count": 33,
   "metadata": {
    "collapsed": false
   },
   "outputs": [
    {
     "name": "stdout",
     "output_type": "stream",
     "text": [
      "83950.0\n"
     ]
    }
   ],
   "source": [
    "# 15. How much money was made by Procedure Type “Consultation”?  Ans == 83950\n",
    "print df.groupby('Procedure')['Total_Charges'].sum()[\"Consultation\"]"
   ]
  },
  {
   "cell_type": "code",
   "execution_count": 34,
   "metadata": {
    "collapsed": false
   },
   "outputs": [
    {
     "name": "stdout",
     "output_type": "stream",
     "text": [
      "0.028090455626\n"
     ]
    }
   ],
   "source": [
    "# 16.   Is there a relation between Age and Total Charges paid?\n",
    "# Ans = No, Cor == 0.028\n",
    "print df['Age'].corr(df['Total_Charges'])"
   ]
  },
  {
   "cell_type": "code",
   "execution_count": 35,
   "metadata": {
    "collapsed": false
   },
   "outputs": [
    {
     "name": "stdout",
     "output_type": "stream",
     "text": [
      "(30.0, 20)\n"
     ]
    }
   ],
   "source": [
    "# Q 17. Which Age group had highest number of visits?\n",
    "# Ans == 30\n",
    "import operator\n",
    "freq_age = Counter(df['Age'])\n",
    "print max(freq_age.iteritems(), key=operator.itemgetter(1))"
   ]
  },
  {
   "cell_type": "code",
   "execution_count": 36,
   "metadata": {
    "collapsed": false
   },
   "outputs": [
    {
     "name": "stdout",
     "output_type": "stream",
     "text": [
      "22300.0\n"
     ]
    }
   ],
   "source": [
    "# Q 18. What is the total cost earned by Procedure Type X Ray and Scalling together?\n",
    "#Ans == 22300\n",
    "print df.groupby('Procedure')['Total_Charges'].sum()[\"X Ray\"] + df.groupby('Procedure')['Total_Charges'].sum()[\"Scalling\"]"
   ]
  },
  {
   "cell_type": "code",
   "execution_count": 38,
   "metadata": {
    "collapsed": false
   },
   "outputs": [],
   "source": [
    "# Printing clean data set\n",
    "\n",
    "df.to_csv(\"clean_hosp_data.csv\", sep=',')\n",
    "\n"
   ]
  },
  {
   "cell_type": "code",
   "execution_count": null,
   "metadata": {
    "collapsed": true
   },
   "outputs": [],
   "source": []
  }
 ],
 "metadata": {
  "kernelspec": {
   "display_name": "Python 2",
   "language": "python",
   "name": "python2"
  },
  "language_info": {
   "codemirror_mode": {
    "name": "ipython",
    "version": 2
   },
   "file_extension": ".py",
   "mimetype": "text/x-python",
   "name": "python",
   "nbconvert_exporter": "python",
   "pygments_lexer": "ipython2",
   "version": "2.7.13"
  }
 },
 "nbformat": 4,
 "nbformat_minor": 2
}
